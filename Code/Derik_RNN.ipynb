{
 "cells": [
  {
   "cell_type": "markdown",
   "id": "8f429c1c-762f-4edb-88de-dcab681ea849",
   "metadata": {},
   "source": [
    "# Imports"
   ]
  },
  {
   "cell_type": "code",
   "execution_count": 96,
   "id": "416df636-e758-491d-a900-c501ee275b61",
   "metadata": {},
   "outputs": [],
   "source": [
    "import pandas as pd\n",
    "import matplotlib.pyplot as plt\n",
    "import numpy as np\n",
    "from sklearn.model_selection import train_test_split\n",
    "from sklearn.metrics import accuracy_score, mean_squared_error\n",
    "\n",
    "from tensorflow.keras.models import Sequential\n",
    "from tensorflow.keras.layers import Dense, Dropout, GRU, Conv1D\n",
    "from tensorflow.keras.optimizers import Adam\n",
    "from tensorflow.keras.regularizers import l1, l2\n",
    "from tensorflow.keras.preprocessing.sequence import TimeseriesGenerator\n",
    "from tensorflow.keras.callbacks import EarlyStopping"
   ]
  },
  {
   "cell_type": "code",
   "execution_count": 2,
   "id": "1079f3c0-ca8d-4566-bbb8-7461404e076e",
   "metadata": {},
   "outputs": [],
   "source": [
    "df = pd.read_csv('../Data/MarineMicroplastics.csv')"
   ]
  },
  {
   "cell_type": "code",
   "execution_count": 3,
   "id": "c55d84ca-64b2-4841-a80a-59177ebd7399",
   "metadata": {},
   "outputs": [
    {
     "data": {
      "text/html": [
       "<div>\n",
       "<style scoped>\n",
       "    .dataframe tbody tr th:only-of-type {\n",
       "        vertical-align: middle;\n",
       "    }\n",
       "\n",
       "    .dataframe tbody tr th {\n",
       "        vertical-align: top;\n",
       "    }\n",
       "\n",
       "    .dataframe thead th {\n",
       "        text-align: right;\n",
       "    }\n",
       "</style>\n",
       "<table border=\"1\" class=\"dataframe\">\n",
       "  <thead>\n",
       "    <tr style=\"text-align: right;\">\n",
       "      <th></th>\n",
       "      <th>FID</th>\n",
       "      <th>Date</th>\n",
       "      <th>Latitude</th>\n",
       "      <th>Longitude</th>\n",
       "      <th>Oceans</th>\n",
       "      <th>Regions</th>\n",
       "      <th>SubRegions</th>\n",
       "      <th>Measurement</th>\n",
       "      <th>Unit</th>\n",
       "      <th>Density Range</th>\n",
       "      <th>...</th>\n",
       "      <th>Accession Number</th>\n",
       "      <th>Accession Link</th>\n",
       "      <th>GlobalID</th>\n",
       "      <th>CreationDate</th>\n",
       "      <th>Creator</th>\n",
       "      <th>EditDate</th>\n",
       "      <th>Editor</th>\n",
       "      <th>Long Reference</th>\n",
       "      <th>x</th>\n",
       "      <th>y</th>\n",
       "    </tr>\n",
       "  </thead>\n",
       "  <tbody>\n",
       "    <tr>\n",
       "      <th>0</th>\n",
       "      <td>40055</td>\n",
       "      <td>4/3/2011 12:00:00 AM</td>\n",
       "      <td>-30.2413</td>\n",
       "      <td>-97.0948</td>\n",
       "      <td>Pacific Ocean</td>\n",
       "      <td>NaN</td>\n",
       "      <td>NaN</td>\n",
       "      <td>0.390376</td>\n",
       "      <td>pieces/m3</td>\n",
       "      <td>0.005-1</td>\n",
       "      <td>...</td>\n",
       "      <td>275968</td>\n",
       "      <td>https://www.ncei.noaa.gov/access/metadata/land...</td>\n",
       "      <td>4078602b-702b-4514-b625-4b08fb50d16c</td>\n",
       "      <td>3/9/2023 9:05:33 PM</td>\n",
       "      <td>ncei_cds_noaa</td>\n",
       "      <td>3/9/2023 9:05:33 PM</td>\n",
       "      <td>ncei_cds_noaa</td>\n",
       "      <td>Eriksen, M., L.C.M. Lebreton, H.S. Carson, M. ...</td>\n",
       "      <td>-1.080854e+07</td>\n",
       "      <td>-3.534605e+06</td>\n",
       "    </tr>\n",
       "    <tr>\n",
       "      <th>1</th>\n",
       "      <td>39794</td>\n",
       "      <td>11/27/2010 12:00:00 AM</td>\n",
       "      <td>-33.5729</td>\n",
       "      <td>-13.7057</td>\n",
       "      <td>Atlantic Ocean</td>\n",
       "      <td>NaN</td>\n",
       "      <td>NaN</td>\n",
       "      <td>0.976803</td>\n",
       "      <td>pieces/m3</td>\n",
       "      <td>0.005-1</td>\n",
       "      <td>...</td>\n",
       "      <td>275968</td>\n",
       "      <td>https://www.ncei.noaa.gov/access/metadata/land...</td>\n",
       "      <td>fff505a7-d6da-435d-9b6e-8263bf448e78</td>\n",
       "      <td>3/9/2023 9:05:33 PM</td>\n",
       "      <td>ncei_cds_noaa</td>\n",
       "      <td>3/9/2023 9:05:33 PM</td>\n",
       "      <td>ncei_cds_noaa</td>\n",
       "      <td>Eriksen, M., L.C.M. Lebreton, H.S. Carson, M. ...</td>\n",
       "      <td>-1.525712e+06</td>\n",
       "      <td>-3.971596e+06</td>\n",
       "    </tr>\n",
       "  </tbody>\n",
       "</table>\n",
       "<p>2 rows × 26 columns</p>\n",
       "</div>"
      ],
      "text/plain": [
       "     FID                    Date  Latitude  Longitude          Oceans Regions  \\\n",
       "0  40055    4/3/2011 12:00:00 AM  -30.2413   -97.0948   Pacific Ocean     NaN   \n",
       "1  39794  11/27/2010 12:00:00 AM  -33.5729   -13.7057  Atlantic Ocean     NaN   \n",
       "\n",
       "  SubRegions  Measurement       Unit Density Range  ... Accession Number  \\\n",
       "0        NaN     0.390376  pieces/m3       0.005-1  ...           275968   \n",
       "1        NaN     0.976803  pieces/m3       0.005-1  ...           275968   \n",
       "\n",
       "                                      Accession Link  \\\n",
       "0  https://www.ncei.noaa.gov/access/metadata/land...   \n",
       "1  https://www.ncei.noaa.gov/access/metadata/land...   \n",
       "\n",
       "                               GlobalID         CreationDate        Creator  \\\n",
       "0  4078602b-702b-4514-b625-4b08fb50d16c  3/9/2023 9:05:33 PM  ncei_cds_noaa   \n",
       "1  fff505a7-d6da-435d-9b6e-8263bf448e78  3/9/2023 9:05:33 PM  ncei_cds_noaa   \n",
       "\n",
       "              EditDate         Editor  \\\n",
       "0  3/9/2023 9:05:33 PM  ncei_cds_noaa   \n",
       "1  3/9/2023 9:05:33 PM  ncei_cds_noaa   \n",
       "\n",
       "                                      Long Reference             x  \\\n",
       "0  Eriksen, M., L.C.M. Lebreton, H.S. Carson, M. ... -1.080854e+07   \n",
       "1  Eriksen, M., L.C.M. Lebreton, H.S. Carson, M. ... -1.525712e+06   \n",
       "\n",
       "              y  \n",
       "0 -3.534605e+06  \n",
       "1 -3.971596e+06  \n",
       "\n",
       "[2 rows x 26 columns]"
      ]
     },
     "execution_count": 3,
     "metadata": {},
     "output_type": "execute_result"
    }
   ],
   "source": [
    "df.head(2)"
   ]
  },
  {
   "cell_type": "markdown",
   "id": "d6514153-0c62-4e16-bd81-1fc4345fb2f5",
   "metadata": {},
   "source": [
    "# Preprocessing data"
   ]
  },
  {
   "cell_type": "code",
   "execution_count": 4,
   "id": "70034b28-c3ac-4b10-997a-2b5021b395b4",
   "metadata": {},
   "outputs": [
    {
     "data": {
      "text/plain": [
       "Index(['FID', 'Date', 'Latitude', 'Longitude', 'Oceans', 'Regions',\n",
       "       'SubRegions', 'Measurement', 'Unit', 'Density Range', 'Density Class',\n",
       "       'Sampling Method', 'Short Reference', 'DOI', 'Organization', 'Keywords',\n",
       "       'Accession Number', 'Accession Link', 'GlobalID', 'CreationDate',\n",
       "       'Creator', 'EditDate', 'Editor', 'Long Reference', 'x', 'y'],\n",
       "      dtype='object')"
      ]
     },
     "execution_count": 4,
     "metadata": {},
     "output_type": "execute_result"
    }
   ],
   "source": [
    "df.columns"
   ]
  },
  {
   "cell_type": "code",
   "execution_count": 5,
   "id": "6a4457fc-1c4a-465c-9b0b-25578c007a37",
   "metadata": {},
   "outputs": [
    {
     "data": {
      "text/plain": [
       "FID                   int64\n",
       "Date                 object\n",
       "Latitude            float64\n",
       "Longitude           float64\n",
       "Oceans               object\n",
       "Regions              object\n",
       "SubRegions           object\n",
       "Measurement         float64\n",
       "Unit                 object\n",
       "Density Range        object\n",
       "Density Class        object\n",
       "Sampling Method      object\n",
       "Short Reference      object\n",
       "DOI                  object\n",
       "Organization         object\n",
       "Keywords             object\n",
       "Accession Number      int64\n",
       "Accession Link       object\n",
       "GlobalID             object\n",
       "CreationDate         object\n",
       "Creator              object\n",
       "EditDate             object\n",
       "Editor               object\n",
       "Long Reference       object\n",
       "x                   float64\n",
       "y                   float64\n",
       "dtype: object"
      ]
     },
     "execution_count": 5,
     "metadata": {},
     "output_type": "execute_result"
    }
   ],
   "source": [
    "df.dtypes"
   ]
  },
  {
   "cell_type": "code",
   "execution_count": 6,
   "id": "692f0cca-cb36-4496-8fba-e37a741d4e87",
   "metadata": {},
   "outputs": [
    {
     "data": {
      "text/html": [
       "<div>\n",
       "<style scoped>\n",
       "    .dataframe tbody tr th:only-of-type {\n",
       "        vertical-align: middle;\n",
       "    }\n",
       "\n",
       "    .dataframe tbody tr th {\n",
       "        vertical-align: top;\n",
       "    }\n",
       "\n",
       "    .dataframe thead th {\n",
       "        text-align: right;\n",
       "    }\n",
       "</style>\n",
       "<table border=\"1\" class=\"dataframe\">\n",
       "  <thead>\n",
       "    <tr style=\"text-align: right;\">\n",
       "      <th></th>\n",
       "      <th>FID</th>\n",
       "      <th>Date</th>\n",
       "      <th>Latitude</th>\n",
       "      <th>Longitude</th>\n",
       "      <th>Oceans</th>\n",
       "      <th>Regions</th>\n",
       "      <th>SubRegions</th>\n",
       "      <th>Measurement</th>\n",
       "      <th>Unit</th>\n",
       "      <th>Density Range</th>\n",
       "      <th>...</th>\n",
       "      <th>Accession Number</th>\n",
       "      <th>Accession Link</th>\n",
       "      <th>GlobalID</th>\n",
       "      <th>CreationDate</th>\n",
       "      <th>Creator</th>\n",
       "      <th>EditDate</th>\n",
       "      <th>Editor</th>\n",
       "      <th>Long Reference</th>\n",
       "      <th>x</th>\n",
       "      <th>y</th>\n",
       "    </tr>\n",
       "  </thead>\n",
       "  <tbody>\n",
       "    <tr>\n",
       "      <th>0</th>\n",
       "      <td>40055</td>\n",
       "      <td>4/3/2011 12:00:00 AM</td>\n",
       "      <td>-30.2413</td>\n",
       "      <td>-97.0948</td>\n",
       "      <td>Pacific Ocean</td>\n",
       "      <td>NaN</td>\n",
       "      <td>NaN</td>\n",
       "      <td>0.390376</td>\n",
       "      <td>pieces/m3</td>\n",
       "      <td>0.005-1</td>\n",
       "      <td>...</td>\n",
       "      <td>275968</td>\n",
       "      <td>https://www.ncei.noaa.gov/access/metadata/land...</td>\n",
       "      <td>4078602b-702b-4514-b625-4b08fb50d16c</td>\n",
       "      <td>3/9/2023 9:05:33 PM</td>\n",
       "      <td>ncei_cds_noaa</td>\n",
       "      <td>3/9/2023 9:05:33 PM</td>\n",
       "      <td>ncei_cds_noaa</td>\n",
       "      <td>Eriksen, M., L.C.M. Lebreton, H.S. Carson, M. ...</td>\n",
       "      <td>-1.080854e+07</td>\n",
       "      <td>-3.534605e+06</td>\n",
       "    </tr>\n",
       "  </tbody>\n",
       "</table>\n",
       "<p>1 rows × 26 columns</p>\n",
       "</div>"
      ],
      "text/plain": [
       "     FID                  Date  Latitude  Longitude         Oceans Regions  \\\n",
       "0  40055  4/3/2011 12:00:00 AM  -30.2413   -97.0948  Pacific Ocean     NaN   \n",
       "\n",
       "  SubRegions  Measurement       Unit Density Range  ... Accession Number  \\\n",
       "0        NaN     0.390376  pieces/m3       0.005-1  ...           275968   \n",
       "\n",
       "                                      Accession Link  \\\n",
       "0  https://www.ncei.noaa.gov/access/metadata/land...   \n",
       "\n",
       "                               GlobalID         CreationDate        Creator  \\\n",
       "0  4078602b-702b-4514-b625-4b08fb50d16c  3/9/2023 9:05:33 PM  ncei_cds_noaa   \n",
       "\n",
       "              EditDate         Editor  \\\n",
       "0  3/9/2023 9:05:33 PM  ncei_cds_noaa   \n",
       "\n",
       "                                      Long Reference             x  \\\n",
       "0  Eriksen, M., L.C.M. Lebreton, H.S. Carson, M. ... -1.080854e+07   \n",
       "\n",
       "              y  \n",
       "0 -3.534605e+06  \n",
       "\n",
       "[1 rows x 26 columns]"
      ]
     },
     "execution_count": 6,
     "metadata": {},
     "output_type": "execute_result"
    }
   ],
   "source": [
    "df.head(1)"
   ]
  },
  {
   "cell_type": "code",
   "execution_count": 7,
   "id": "87c5e5cc-b5b0-4ebe-a857-e1c7fc811622",
   "metadata": {},
   "outputs": [
    {
     "data": {
      "text/html": [
       "<div>\n",
       "<style scoped>\n",
       "    .dataframe tbody tr th:only-of-type {\n",
       "        vertical-align: middle;\n",
       "    }\n",
       "\n",
       "    .dataframe tbody tr th {\n",
       "        vertical-align: top;\n",
       "    }\n",
       "\n",
       "    .dataframe thead th {\n",
       "        text-align: right;\n",
       "    }\n",
       "</style>\n",
       "<table border=\"1\" class=\"dataframe\">\n",
       "  <thead>\n",
       "    <tr style=\"text-align: right;\">\n",
       "      <th></th>\n",
       "      <th>FID</th>\n",
       "      <th>Latitude</th>\n",
       "      <th>Longitude</th>\n",
       "      <th>Oceans</th>\n",
       "      <th>Regions</th>\n",
       "      <th>SubRegions</th>\n",
       "      <th>Measurement</th>\n",
       "      <th>Unit</th>\n",
       "      <th>Density Range</th>\n",
       "      <th>Density Class</th>\n",
       "      <th>...</th>\n",
       "      <th>Accession Number</th>\n",
       "      <th>Accession Link</th>\n",
       "      <th>GlobalID</th>\n",
       "      <th>CreationDate</th>\n",
       "      <th>Creator</th>\n",
       "      <th>EditDate</th>\n",
       "      <th>Editor</th>\n",
       "      <th>Long Reference</th>\n",
       "      <th>x</th>\n",
       "      <th>y</th>\n",
       "    </tr>\n",
       "    <tr>\n",
       "      <th>Date</th>\n",
       "      <th></th>\n",
       "      <th></th>\n",
       "      <th></th>\n",
       "      <th></th>\n",
       "      <th></th>\n",
       "      <th></th>\n",
       "      <th></th>\n",
       "      <th></th>\n",
       "      <th></th>\n",
       "      <th></th>\n",
       "      <th></th>\n",
       "      <th></th>\n",
       "      <th></th>\n",
       "      <th></th>\n",
       "      <th></th>\n",
       "      <th></th>\n",
       "      <th></th>\n",
       "      <th></th>\n",
       "      <th></th>\n",
       "      <th></th>\n",
       "      <th></th>\n",
       "    </tr>\n",
       "  </thead>\n",
       "  <tbody>\n",
       "    <tr>\n",
       "      <th>1972-04-20</th>\n",
       "      <td>40541</td>\n",
       "      <td>39.0</td>\n",
       "      <td>-141.017</td>\n",
       "      <td>Pacific Ocean</td>\n",
       "      <td>NaN</td>\n",
       "      <td>NaN</td>\n",
       "      <td>0.017</td>\n",
       "      <td>pieces/m3</td>\n",
       "      <td>0.005-1</td>\n",
       "      <td>Medium</td>\n",
       "      <td>...</td>\n",
       "      <td>253448</td>\n",
       "      <td>https://www.ncei.noaa.gov/access/metadata/land...</td>\n",
       "      <td>cd81c3c8-9fd5-4743-8aa7-b73bdbdd92e0</td>\n",
       "      <td>3/9/2023 9:05:33 PM</td>\n",
       "      <td>ncei_cds_noaa</td>\n",
       "      <td>3/9/2023 9:05:33 PM</td>\n",
       "      <td>ncei_cds_noaa</td>\n",
       "      <td>Goldstein, M.C., A.J. Titmus, M. Ford. 2013. S...</td>\n",
       "      <td>-1.569794e+07</td>\n",
       "      <td>4.721672e+06</td>\n",
       "    </tr>\n",
       "  </tbody>\n",
       "</table>\n",
       "<p>1 rows × 25 columns</p>\n",
       "</div>"
      ],
      "text/plain": [
       "              FID  Latitude  Longitude         Oceans Regions SubRegions  \\\n",
       "Date                                                                       \n",
       "1972-04-20  40541      39.0   -141.017  Pacific Ocean     NaN        NaN   \n",
       "\n",
       "            Measurement       Unit Density Range Density Class  ...  \\\n",
       "Date                                                            ...   \n",
       "1972-04-20        0.017  pieces/m3       0.005-1        Medium  ...   \n",
       "\n",
       "           Accession Number  \\\n",
       "Date                          \n",
       "1972-04-20           253448   \n",
       "\n",
       "                                               Accession Link  \\\n",
       "Date                                                            \n",
       "1972-04-20  https://www.ncei.noaa.gov/access/metadata/land...   \n",
       "\n",
       "                                        GlobalID         CreationDate  \\\n",
       "Date                                                                    \n",
       "1972-04-20  cd81c3c8-9fd5-4743-8aa7-b73bdbdd92e0  3/9/2023 9:05:33 PM   \n",
       "\n",
       "                  Creator             EditDate         Editor  \\\n",
       "Date                                                            \n",
       "1972-04-20  ncei_cds_noaa  3/9/2023 9:05:33 PM  ncei_cds_noaa   \n",
       "\n",
       "                                               Long Reference             x  \\\n",
       "Date                                                                          \n",
       "1972-04-20  Goldstein, M.C., A.J. Titmus, M. Ford. 2013. S... -1.569794e+07   \n",
       "\n",
       "                       y  \n",
       "Date                      \n",
       "1972-04-20  4.721672e+06  \n",
       "\n",
       "[1 rows x 25 columns]"
      ]
     },
     "execution_count": 7,
     "metadata": {},
     "output_type": "execute_result"
    }
   ],
   "source": [
    "# Set index as a time series\n",
    "df['Date'] = pd.to_datetime(df['Date'])\n",
    "df.set_index('Date', inplace=True)\n",
    "df.sort_index(inplace=True)\n",
    "df.head(1)"
   ]
  },
  {
   "cell_type": "markdown",
   "id": "bb01c27e-7c93-4c91-91bb-f0983c5cd4eb",
   "metadata": {},
   "source": [
    "# Train test split"
   ]
  },
  {
   "cell_type": "code",
   "execution_count": 8,
   "id": "89c849d6-7ec2-4cd0-a4c4-cf2e56b544a0",
   "metadata": {},
   "outputs": [
    {
     "data": {
      "text/plain": [
       "Index(['FID', 'Latitude', 'Longitude', 'Oceans', 'Regions', 'SubRegions',\n",
       "       'Measurement', 'Unit', 'Density Range', 'Density Class',\n",
       "       'Sampling Method', 'Short Reference', 'DOI', 'Organization', 'Keywords',\n",
       "       'Accession Number', 'Accession Link', 'GlobalID', 'CreationDate',\n",
       "       'Creator', 'EditDate', 'Editor', 'Long Reference', 'x', 'y'],\n",
       "      dtype='object')"
      ]
     },
     "execution_count": 8,
     "metadata": {},
     "output_type": "execute_result"
    }
   ],
   "source": [
    "df.columns"
   ]
  },
  {
   "cell_type": "markdown",
   "id": "93452463-7477-43d1-8cac-90893810bb6d",
   "metadata": {},
   "source": [
    "The columns were using are latitude and longitude because that more or less describes the ocean, region, and subregion. We noticed a significant difference in sample concentrations based on the sampling method, so theoretically that should be able to predict microplastic concentrations."
   ]
  },
  {
   "cell_type": "code",
   "execution_count": 9,
   "id": "81f5da66-33f1-4274-a0af-18f53f96460c",
   "metadata": {},
   "outputs": [
    {
     "data": {
      "text/html": [
       "<div>\n",
       "<style scoped>\n",
       "    .dataframe tbody tr th:only-of-type {\n",
       "        vertical-align: middle;\n",
       "    }\n",
       "\n",
       "    .dataframe tbody tr th {\n",
       "        vertical-align: top;\n",
       "    }\n",
       "\n",
       "    .dataframe thead th {\n",
       "        text-align: right;\n",
       "    }\n",
       "</style>\n",
       "<table border=\"1\" class=\"dataframe\">\n",
       "  <thead>\n",
       "    <tr style=\"text-align: right;\">\n",
       "      <th></th>\n",
       "      <th>FID</th>\n",
       "      <th>Latitude</th>\n",
       "      <th>Longitude</th>\n",
       "      <th>Oceans</th>\n",
       "      <th>Regions</th>\n",
       "      <th>SubRegions</th>\n",
       "      <th>Measurement</th>\n",
       "      <th>Unit</th>\n",
       "      <th>Density Range</th>\n",
       "      <th>Density Class</th>\n",
       "      <th>...</th>\n",
       "      <th>Accession Number</th>\n",
       "      <th>Accession Link</th>\n",
       "      <th>GlobalID</th>\n",
       "      <th>CreationDate</th>\n",
       "      <th>Creator</th>\n",
       "      <th>EditDate</th>\n",
       "      <th>Editor</th>\n",
       "      <th>Long Reference</th>\n",
       "      <th>x</th>\n",
       "      <th>y</th>\n",
       "    </tr>\n",
       "    <tr>\n",
       "      <th>Date</th>\n",
       "      <th></th>\n",
       "      <th></th>\n",
       "      <th></th>\n",
       "      <th></th>\n",
       "      <th></th>\n",
       "      <th></th>\n",
       "      <th></th>\n",
       "      <th></th>\n",
       "      <th></th>\n",
       "      <th></th>\n",
       "      <th></th>\n",
       "      <th></th>\n",
       "      <th></th>\n",
       "      <th></th>\n",
       "      <th></th>\n",
       "      <th></th>\n",
       "      <th></th>\n",
       "      <th></th>\n",
       "      <th></th>\n",
       "      <th></th>\n",
       "      <th></th>\n",
       "    </tr>\n",
       "  </thead>\n",
       "  <tbody>\n",
       "    <tr>\n",
       "      <th>2013-05-27</th>\n",
       "      <td>39634</td>\n",
       "      <td>5.7092</td>\n",
       "      <td>83.7172</td>\n",
       "      <td>Indian Ocean</td>\n",
       "      <td>NaN</td>\n",
       "      <td>NaN</td>\n",
       "      <td>0.012781</td>\n",
       "      <td>pieces/m3</td>\n",
       "      <td>0.005-1</td>\n",
       "      <td>Medium</td>\n",
       "      <td>...</td>\n",
       "      <td>275967</td>\n",
       "      <td>https://www.ncei.noaa.gov/access/metadata/land...</td>\n",
       "      <td>afb2ca57-6d4f-4a6f-9e33-1ebdfe61be53</td>\n",
       "      <td>3/9/2023 9:05:33 PM</td>\n",
       "      <td>ncei_cds_noaa</td>\n",
       "      <td>3/9/2023 9:05:33 PM</td>\n",
       "      <td>ncei_cds_noaa</td>\n",
       "      <td>Eriksen, M., M. Liboiron, T. Kiessling, L. Cha...</td>\n",
       "      <td>9.319356e+06</td>\n",
       "      <td>636599.5758</td>\n",
       "    </tr>\n",
       "    <tr>\n",
       "      <th>2013-05-27</th>\n",
       "      <td>39632</td>\n",
       "      <td>5.6413</td>\n",
       "      <td>83.1797</td>\n",
       "      <td>Indian Ocean</td>\n",
       "      <td>NaN</td>\n",
       "      <td>NaN</td>\n",
       "      <td>0.012001</td>\n",
       "      <td>pieces/m3</td>\n",
       "      <td>0.005-1</td>\n",
       "      <td>Medium</td>\n",
       "      <td>...</td>\n",
       "      <td>275967</td>\n",
       "      <td>https://www.ncei.noaa.gov/access/metadata/land...</td>\n",
       "      <td>aa4bb960-1780-4a70-a3a6-5a02b6995c4d</td>\n",
       "      <td>3/9/2023 9:05:33 PM</td>\n",
       "      <td>ncei_cds_noaa</td>\n",
       "      <td>3/9/2023 9:05:33 PM</td>\n",
       "      <td>ncei_cds_noaa</td>\n",
       "      <td>Eriksen, M., M. Liboiron, T. Kiessling, L. Cha...</td>\n",
       "      <td>9.259522e+06</td>\n",
       "      <td>629003.7501</td>\n",
       "    </tr>\n",
       "  </tbody>\n",
       "</table>\n",
       "<p>2 rows × 25 columns</p>\n",
       "</div>"
      ],
      "text/plain": [
       "              FID  Latitude  Longitude        Oceans Regions SubRegions  \\\n",
       "Date                                                                      \n",
       "2013-05-27  39634    5.7092    83.7172  Indian Ocean     NaN        NaN   \n",
       "2013-05-27  39632    5.6413    83.1797  Indian Ocean     NaN        NaN   \n",
       "\n",
       "            Measurement       Unit Density Range Density Class  ...  \\\n",
       "Date                                                            ...   \n",
       "2013-05-27     0.012781  pieces/m3       0.005-1        Medium  ...   \n",
       "2013-05-27     0.012001  pieces/m3       0.005-1        Medium  ...   \n",
       "\n",
       "           Accession Number  \\\n",
       "Date                          \n",
       "2013-05-27           275967   \n",
       "2013-05-27           275967   \n",
       "\n",
       "                                               Accession Link  \\\n",
       "Date                                                            \n",
       "2013-05-27  https://www.ncei.noaa.gov/access/metadata/land...   \n",
       "2013-05-27  https://www.ncei.noaa.gov/access/metadata/land...   \n",
       "\n",
       "                                        GlobalID         CreationDate  \\\n",
       "Date                                                                    \n",
       "2013-05-27  afb2ca57-6d4f-4a6f-9e33-1ebdfe61be53  3/9/2023 9:05:33 PM   \n",
       "2013-05-27  aa4bb960-1780-4a70-a3a6-5a02b6995c4d  3/9/2023 9:05:33 PM   \n",
       "\n",
       "                  Creator             EditDate         Editor  \\\n",
       "Date                                                            \n",
       "2013-05-27  ncei_cds_noaa  3/9/2023 9:05:33 PM  ncei_cds_noaa   \n",
       "2013-05-27  ncei_cds_noaa  3/9/2023 9:05:33 PM  ncei_cds_noaa   \n",
       "\n",
       "                                               Long Reference             x  \\\n",
       "Date                                                                          \n",
       "2013-05-27  Eriksen, M., M. Liboiron, T. Kiessling, L. Cha...  9.319356e+06   \n",
       "2013-05-27  Eriksen, M., M. Liboiron, T. Kiessling, L. Cha...  9.259522e+06   \n",
       "\n",
       "                      y  \n",
       "Date                     \n",
       "2013-05-27  636599.5758  \n",
       "2013-05-27  629003.7501  \n",
       "\n",
       "[2 rows x 25 columns]"
      ]
     },
     "execution_count": 9,
     "metadata": {},
     "output_type": "execute_result"
    }
   ],
   "source": [
    "df[df['Sampling Method'] == 'AVANI net'].head(2)"
   ]
  },
  {
   "cell_type": "code",
   "execution_count": 28,
   "id": "8dfc65fe-f952-4eda-a641-5936ed0ff8b8",
   "metadata": {},
   "outputs": [],
   "source": [
    "#function to take the df frame and sampling method to train test split\n",
    "def train_test(df, sample_method):\n",
    "    df = df[df['Sampling Method'] == sample_method]\n",
    "    X = df[['Latitude','Longitude', 'Oceans']]\n",
    "    y= df['Measurement'].values\n",
    "    #X = X.dropna().copy()\n",
    "    X = pd.get_dummies(data = X, columns = ['Oceans'], drop_first = True)\n",
    "    X_train, X_test, y_train, y_test = train_test_split(X, y, shuffle = False)\n",
    "    return X_train, X_test, y_train, y_test"
   ]
  },
  {
   "cell_type": "markdown",
   "id": "27b62e6c-754c-4f39-9d72-317c3b94c8f0",
   "metadata": {},
   "source": [
    "## Scaling data"
   ]
  },
  {
   "cell_type": "markdown",
   "id": "abbd450d-6a87-430b-a90a-32cb0fe7e281",
   "metadata": {},
   "source": [
    "\n",
    "Normally we need to scale, but here we have mostly dummy variables except for our latitude and longitude which shouldn't be scaled.\n"
   ]
  },
  {
   "cell_type": "markdown",
   "id": "43f069c5-d0ea-42c2-b538-02fae77e2f3e",
   "metadata": {},
   "source": [
    "# Time series generator\n",
    "\n",
    "This portion referred to the  [RNN lesson](https://git.generalassemb.ly/dsir-0320/8.05-lesson-rnn/blob/main/starter_code_Hank_dsir_0320.ipynb)"
   ]
  },
  {
   "cell_type": "code",
   "execution_count": 48,
   "id": "4d5703d8-ac52-48d1-bec0-8580f158c964",
   "metadata": {},
   "outputs": [],
   "source": [
    "def time_seq(X_test, y_test):\n",
    "    train_sequences = TimeseriesGenerator(X_train, y_train, length = 1, batch_size = 32)\n",
    "    test_sequences = TimeseriesGenerator(X_test, y_test, length = 1, batch_size = 32)\n",
    "    batch_x, batch_y = train_sequences[0]\n",
    "    print(f' x batch is {batch_x.shape} \\n y batch is  {batch_y.shape}')\n",
    "    return train_sequences, test_sequences\n",
    "    "
   ]
  },
  {
   "cell_type": "markdown",
   "id": "f6f02c76-3706-494b-bf13-ede316410417",
   "metadata": {},
   "source": [
    "# Modeling"
   ]
  },
  {
   "cell_type": "code",
   "execution_count": 24,
   "id": "549df2ae-6208-4774-a2c0-a931a7229be4",
   "metadata": {},
   "outputs": [],
   "source": [
    "sampling_methods = list(set(df['Sampling Method']))"
   ]
  },
  {
   "cell_type": "code",
   "execution_count": 13,
   "id": "55893bda-e422-4ecd-9089-9d537447b56f",
   "metadata": {},
   "outputs": [
    {
     "data": {
      "text/plain": [
       "['Neuston net',\n",
       " 'Grab sample',\n",
       " 'Surface water intake',\n",
       " 'Manta net',\n",
       " 'Stainless steel bucket',\n",
       " 'Intake seawater',\n",
       " 'AVANI net',\n",
       " 'Plankton net',\n",
       " 'Aluminum bucket']"
      ]
     },
     "execution_count": 13,
     "metadata": {},
     "output_type": "execute_result"
    }
   ],
   "source": [
    "sampling_methods"
   ]
  },
  {
   "cell_type": "markdown",
   "id": "9d929273-ac74-4328-8bf3-c141b684a740",
   "metadata": {},
   "source": [
    "## Neuston Net"
   ]
  },
  {
   "cell_type": "code",
   "execution_count": 135,
   "id": "70e1a3ab-1521-4977-8302-96ffef8156b9",
   "metadata": {},
   "outputs": [],
   "source": [
    "X_train, X_test, y_train, y_test = train_test(df,sampling_methods[0])"
   ]
  },
  {
   "cell_type": "code",
   "execution_count": 136,
   "id": "5814b316-964d-42bf-993a-293548fe709e",
   "metadata": {},
   "outputs": [
    {
     "name": "stdout",
     "output_type": "stream",
     "text": [
      " x batch is (32, 1, 6) \n",
      " y batch is  (32,)\n"
     ]
    }
   ],
   "source": [
    "time_seq(X_test, y_test);"
   ]
  },
  {
   "cell_type": "code",
   "execution_count": 137,
   "id": "690685cc-d5bb-464f-83e3-b79fb42887ba",
   "metadata": {},
   "outputs": [
    {
     "data": {
      "text/plain": [
       "(7281, 6)"
      ]
     },
     "execution_count": 137,
     "metadata": {},
     "output_type": "execute_result"
    }
   ],
   "source": [
    "X_train.shape"
   ]
  },
  {
   "cell_type": "code",
   "execution_count": 138,
   "id": "ec4e50f6-1967-431e-bdb1-df61c3f137f2",
   "metadata": {},
   "outputs": [
    {
     "name": "stdout",
     "output_type": "stream",
     "text": [
      "Baseline Model MSE: 2.5658535938151554 \n"
     ]
    }
   ],
   "source": [
    "baseline_preds= np.full((1, len(y_test)), y_train.mean())[0]\n",
    "print(f'Baseline Model MSE: {mean_squared_error(y_test, baseline_preds)} ')"
   ]
  },
  {
   "cell_type": "code",
   "execution_count": 51,
   "id": "c0d3141b-a1f8-487e-a657-c744bcf79068",
   "metadata": {},
   "outputs": [],
   "source": [
    "input_shape = train_sequences[0][0][0].shape"
   ]
  },
  {
   "cell_type": "code",
   "execution_count": null,
   "id": "9d532dff-414a-4a50-be49-2bb580b1b0ce",
   "metadata": {},
   "outputs": [],
   "source": []
  },
  {
   "cell_type": "code",
   "execution_count": 106,
   "id": "0cb700fb-33bc-4cc6-9ee9-ee3cf1a85d8f",
   "metadata": {},
   "outputs": [],
   "source": [
    "model = Sequential()\n",
    "#model.add(Conv1D(filters=32,kernel_size=3, activation='relu'))\n",
    "model.add(GRU(64, input_shape=input_shape, return_sequences = True,kernel_regularizer=l2(0.015))) \n",
    "model.add(GRU(16, return_sequences = False)) \n",
    "model.add(Dense(8, activation = 'relu'))\n",
    "model.add(Dropout(0.005))\n",
    "model.add(Dense(8, activation = 'relu'))\n",
    "# output layer\n",
    "model.add(Dense(1, activation = None))"
   ]
  },
  {
   "cell_type": "code",
   "execution_count": 107,
   "id": "07c3c8b3-9cc2-4a66-8aab-64d223df6a51",
   "metadata": {},
   "outputs": [
    {
     "name": "stdout",
     "output_type": "stream",
     "text": [
      "Epoch 1/10\n",
      "228/228 [==============================] - 7s 16ms/step - loss: 1.7014 - mse: 0.3761 - val_loss: 6.1669 - val_mse: 2.5913\n",
      "Epoch 2/10\n",
      "228/228 [==============================] - 3s 12ms/step - loss: 0.5910 - mse: 0.0313 - val_loss: 2.6791 - val_mse: 2.5973\n",
      "Epoch 3/10\n",
      "228/228 [==============================] - 3s 12ms/step - loss: 0.0710 - mse: 0.0312 - val_loss: 2.5741 - val_mse: 2.5558\n",
      "Epoch 4/10\n",
      "228/228 [==============================] - 3s 14ms/step - loss: 0.0432 - mse: 0.0322 - val_loss: 2.6123 - val_mse: 2.6064\n",
      "Epoch 5/10\n",
      "228/228 [==============================] - 3s 15ms/step - loss: 0.0353 - mse: 0.0320 - val_loss: 2.5296 - val_mse: 2.5280\n",
      "Epoch 6/10\n",
      "228/228 [==============================] - 3s 13ms/step - loss: 0.0340 - mse: 0.0322 - val_loss: 2.5939 - val_mse: 2.5908\n",
      "Epoch 7/10\n",
      "228/228 [==============================] - 4s 16ms/step - loss: 0.0344 - mse: 0.0327 - val_loss: 2.6129 - val_mse: 2.6112\n",
      "Epoch 8/10\n",
      "228/228 [==============================] - 3s 15ms/step - loss: 0.0339 - mse: 0.0323 - val_loss: 2.5488 - val_mse: 2.5478\n"
     ]
    }
   ],
   "source": [
    "#Used early stopping because model stopped learning pretty early https://keras.io/api/callbacks/early_stopping/\n",
    "model.compile(loss = 'mse',\n",
    "              optimizer = Adam(learning_rate = 0.35),\n",
    "              metrics = ['mse'])\n",
    "\n",
    "history = model.fit(train_sequences,\n",
    "                    validation_data = test_sequences,\n",
    "                    epochs = 10,\n",
    "                    callbacks=EarlyStopping(patience=3))"
   ]
  },
  {
   "cell_type": "code",
   "execution_count": 64,
   "id": "39483d50-cdc1-4531-b831-a0be67e40547",
   "metadata": {},
   "outputs": [
    {
     "data": {
      "image/png": "[encoded data removed]",
      "text/plain": [
       "<Figure size 640x480 with 1 Axes>"
      ]
     },
     "metadata": {},
     "output_type": "display_data"
    }
   ],
   "source": [
    "#plotting MSE\n",
    "\n",
    "plt.plot(history.history['mse'], label = 'Train MSE')\n",
    "plt.plot(history.history['val_mse'], label = 'Test MSE')\n",
    "\n",
    "plt.legend();"
   ]
  },
  {
   "cell_type": "code",
   "execution_count": 90,
   "id": "512a9703-1c34-43d8-86b7-f9a7e1a4b313",
   "metadata": {},
   "outputs": [
    {
     "data": {
      "text/html": [
       "<div>\n",
       "<style scoped>\n",
       "    .dataframe tbody tr th:only-of-type {\n",
       "        vertical-align: middle;\n",
       "    }\n",
       "\n",
       "    .dataframe tbody tr th {\n",
       "        vertical-align: top;\n",
       "    }\n",
       "\n",
       "    .dataframe thead th {\n",
       "        text-align: right;\n",
       "    }\n",
       "</style>\n",
       "<table border=\"1\" class=\"dataframe\">\n",
       "  <thead>\n",
       "    <tr style=\"text-align: right;\">\n",
       "      <th></th>\n",
       "      <th>FID</th>\n",
       "      <th>Latitude</th>\n",
       "      <th>Longitude</th>\n",
       "      <th>Oceans</th>\n",
       "      <th>Regions</th>\n",
       "      <th>SubRegions</th>\n",
       "      <th>Measurement</th>\n",
       "      <th>Unit</th>\n",
       "      <th>Density Range</th>\n",
       "      <th>Density Class</th>\n",
       "      <th>...</th>\n",
       "      <th>Accession Number</th>\n",
       "      <th>Accession Link</th>\n",
       "      <th>GlobalID</th>\n",
       "      <th>CreationDate</th>\n",
       "      <th>Creator</th>\n",
       "      <th>EditDate</th>\n",
       "      <th>Editor</th>\n",
       "      <th>Long Reference</th>\n",
       "      <th>x</th>\n",
       "      <th>y</th>\n",
       "    </tr>\n",
       "    <tr>\n",
       "      <th>Date</th>\n",
       "      <th></th>\n",
       "      <th></th>\n",
       "      <th></th>\n",
       "      <th></th>\n",
       "      <th></th>\n",
       "      <th></th>\n",
       "      <th></th>\n",
       "      <th></th>\n",
       "      <th></th>\n",
       "      <th></th>\n",
       "      <th></th>\n",
       "      <th></th>\n",
       "      <th></th>\n",
       "      <th></th>\n",
       "      <th></th>\n",
       "      <th></th>\n",
       "      <th></th>\n",
       "      <th></th>\n",
       "      <th></th>\n",
       "      <th></th>\n",
       "      <th></th>\n",
       "    </tr>\n",
       "  </thead>\n",
       "  <tbody>\n",
       "    <tr>\n",
       "      <th>1972-04-20</th>\n",
       "      <td>40541</td>\n",
       "      <td>39.0</td>\n",
       "      <td>-141.017</td>\n",
       "      <td>Pacific Ocean</td>\n",
       "      <td>NaN</td>\n",
       "      <td>NaN</td>\n",
       "      <td>0.017</td>\n",
       "      <td>pieces/m3</td>\n",
       "      <td>0.005-1</td>\n",
       "      <td>Medium</td>\n",
       "      <td>...</td>\n",
       "      <td>253448</td>\n",
       "      <td>https://www.ncei.noaa.gov/access/metadata/land...</td>\n",
       "      <td>cd81c3c8-9fd5-4743-8aa7-b73bdbdd92e0</td>\n",
       "      <td>3/9/2023 9:05:33 PM</td>\n",
       "      <td>ncei_cds_noaa</td>\n",
       "      <td>3/9/2023 9:05:33 PM</td>\n",
       "      <td>ncei_cds_noaa</td>\n",
       "      <td>Goldstein, M.C., A.J. Titmus, M. Ford. 2013. S...</td>\n",
       "      <td>-1.569794e+07</td>\n",
       "      <td>4.721672e+06</td>\n",
       "    </tr>\n",
       "  </tbody>\n",
       "</table>\n",
       "<p>1 rows × 25 columns</p>\n",
       "</div>"
      ],
      "text/plain": [
       "              FID  Latitude  Longitude         Oceans Regions SubRegions  \\\n",
       "Date                                                                       \n",
       "1972-04-20  40541      39.0   -141.017  Pacific Ocean     NaN        NaN   \n",
       "\n",
       "            Measurement       Unit Density Range Density Class  ...  \\\n",
       "Date                                                            ...   \n",
       "1972-04-20        0.017  pieces/m3       0.005-1        Medium  ...   \n",
       "\n",
       "           Accession Number  \\\n",
       "Date                          \n",
       "1972-04-20           253448   \n",
       "\n",
       "                                               Accession Link  \\\n",
       "Date                                                            \n",
       "1972-04-20  https://www.ncei.noaa.gov/access/metadata/land...   \n",
       "\n",
       "                                        GlobalID         CreationDate  \\\n",
       "Date                                                                    \n",
       "1972-04-20  cd81c3c8-9fd5-4743-8aa7-b73bdbdd92e0  3/9/2023 9:05:33 PM   \n",
       "\n",
       "                  Creator             EditDate         Editor  \\\n",
       "Date                                                            \n",
       "1972-04-20  ncei_cds_noaa  3/9/2023 9:05:33 PM  ncei_cds_noaa   \n",
       "\n",
       "                                               Long Reference             x  \\\n",
       "Date                                                                          \n",
       "1972-04-20  Goldstein, M.C., A.J. Titmus, M. Ford. 2013. S... -1.569794e+07   \n",
       "\n",
       "                       y  \n",
       "Date                      \n",
       "1972-04-20  4.721672e+06  \n",
       "\n",
       "[1 rows x 25 columns]"
      ]
     },
     "execution_count": 90,
     "metadata": {},
     "output_type": "execute_result"
    }
   ],
   "source": [
    "df.head(1)"
   ]
  },
  {
   "cell_type": "code",
   "execution_count": 95,
   "id": "f1d015d0-f63f-4e9c-8c03-743f68fb43bb",
   "metadata": {},
   "outputs": [
    {
     "data": {
      "text/plain": [
       "Density Range\n",
       "0-0.0005         4076\n",
       "0.005-1          3932\n",
       "0.0005-0.005     1444\n",
       "1-10              250\n",
       ">=10                6\n",
       "dtype: int64"
      ]
     },
     "execution_count": 95,
     "metadata": {},
     "output_type": "execute_result"
    }
   ],
   "source": [
    "df[['Density Range']][df['Sampling Method'] == sampling_methods[0]].value_counts()"
   ]
  },
  {
   "cell_type": "code",
   "execution_count": 87,
   "id": "5046b5d6-57ee-4b28-b117-fa8031793784",
   "metadata": {},
   "outputs": [
    {
     "name": "stdout",
     "output_type": "stream",
     "text": [
      "228/228 [==============================] - 2s 7ms/step - loss: 0.0325 - mse: 0.0300\n"
     ]
    },
    {
     "data": {
      "text/plain": [
       "[0.032528698444366455, 0.030018918216228485]"
      ]
     },
     "execution_count": 87,
     "metadata": {},
     "output_type": "execute_result"
    }
   ],
   "source": [
    "model.evaluate(train_sequences)"
   ]
  },
  {
   "cell_type": "code",
   "execution_count": 86,
   "id": "0c9365a8-3a9e-4ed2-81d3-c819cc5f0323",
   "metadata": {},
   "outputs": [
    {
     "name": "stdout",
     "output_type": "stream",
     "text": [
      "76/76 [==============================] - 1s 7ms/step - loss: 2.5721 - mse: 2.5696\n"
     ]
    },
    {
     "data": {
      "text/plain": [
       "[2.5720760822296143, 2.5695667266845703]"
      ]
     },
     "execution_count": 86,
     "metadata": {},
     "output_type": "execute_result"
    }
   ],
   "source": [
    "model.evaluate(test_sequences)"
   ]
  },
  {
   "cell_type": "markdown",
   "id": "d75f2f94-0469-4ba6-a23f-e17b72e149c7",
   "metadata": {},
   "source": [
    "For our training MSE our errors seem to be within a common range of values; on the other hand, our test MSE appears to have errors that fall into a more uncommon upper range. "
   ]
  },
  {
   "cell_type": "code",
   "execution_count": 142,
   "id": "ed64de2e-8189-481b-b582-c614cc739957",
   "metadata": {},
   "outputs": [],
   "source": [
    "X_test_preds= X_test.iloc[:, 0:].values.reshape(-1, 1,6)"
   ]
  },
  {
   "cell_type": "code",
   "execution_count": 144,
   "id": "84228287-aba2-4904-a6a3-89bee4db0484",
   "metadata": {},
   "outputs": [
    {
     "name": "stdout",
     "output_type": "stream",
     "text": [
      "76/76 [==============================] - 0s 4ms/step\n"
     ]
    }
   ],
   "source": [
    "preds = model.predict(X_test_preds)"
   ]
  },
  {
   "cell_type": "code",
   "execution_count": 145,
   "id": "0d193324-9b94-4ae2-8ce5-36a9dfb2d025",
   "metadata": {},
   "outputs": [
    {
     "data": {
      "text/plain": [
       "array([[0.06167768],\n",
       "       [0.06167768],\n",
       "       [0.06167768],\n",
       "       ...,\n",
       "       [0.06167768],\n",
       "       [0.06167768],\n",
       "       [0.06167768]], dtype=float32)"
      ]
     },
     "execution_count": 145,
     "metadata": {},
     "output_type": "execute_result"
    }
   ],
   "source": [
    "preds"
   ]
  },
  {
   "cell_type": "code",
   "execution_count": null,
   "id": "b3e5b4bf-3a8e-40eb-8ec9-e05446f0c76b",
   "metadata": {},
   "outputs": [],
   "source": []
  }
 ],
 "metadata": {
  "kernelspec": {
   "display_name": "Python [conda env:tensorflow-env]",
   "language": "python",
   "name": "conda-env-tensorflow-env-py"
  },
  "language_info": {
   "codemirror_mode": {
    "name": "ipython",
    "version": 3
   },
   "file_extension": ".py",
   "mimetype": "text/x-python",
   "name": "python",
   "nbconvert_exporter": "python",
   "pygments_lexer": "ipython3",
   "version": "3.10.11"
  }
 },
 "nbformat": 4,
 "nbformat_minor": 5
}
